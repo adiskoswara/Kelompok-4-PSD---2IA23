{
  "cells": [
    {
      "cell_type": "markdown",
      "metadata": {
        "id": "-IycjpxksDw7"
      },
      "source": [
        "# TUGAS\n",
        "## Pengenalan Array dengan Numpy\n",
        "\n",
        "Kelompok 4\n",
        "1. Adis Koswara\n",
        "2. Fauzaan alif Syafiindra\n",
        "3. Mohamad ridho Gusdanaputra\n",
        "4. Restu kurniawan Sumarna\n",
        "5. Yusuf Radana\n",
        "\n",
        "\n"
      ]
    },
    {
      "cell_type": "code",
      "execution_count": 1,
      "metadata": {
        "scrolled": true,
        "id": "teOSNgkisDxD",
        "colab": {
          "base_uri": "https://localhost:8080/"
        },
        "outputId": "2eb1a280-bfb6-436c-8611-86bf7e00ee8a"
      },
      "outputs": [
        {
          "output_type": "stream",
          "name": "stdout",
          "text": [
            "Matrix (arr):\n",
            " [[1 2 3]\n",
            " [5 6 7]]\n",
            "Shape of arr: (2, 3)\n",
            "Data type of arr: int64\n"
          ]
        }
      ],
      "source": [
        "# import libraries\n",
        "import numpy as np\n",
        "# buat matriks (arr) shape 2x3 dengan tipe data integer 64\n",
        "# [[ 1  2  3 ]\n",
        "#  [ 5  6  7 ]]\n",
        "arr = np.array([[1, 2, 3], [5, 6, 7]], dtype=np.int64)\n",
        "# print arr\n",
        "print(\"Matrix (arr):\\n\", arr)\n",
        "# print shape arr\n",
        "print(\"Shape of arr:\", arr.shape)\n",
        "# print tipe data arr\n",
        "print(\"Data type of arr:\", arr.dtype)"
      ]
    },
    {
      "cell_type": "code",
      "source": [
        "# buat matriks (arr_rdm) shape 2x3 dengan tipe data integer 64\n",
        "# nilai elemennya random\n",
        "arr_rdm = np.random.randint(1, 75, size=(2, 3), dtype=np.int64)\n",
        "# print arr_rdm\n",
        "print(\"Random Matrix (arr_rdm):\\n\", arr_rdm)\n",
        "# print shape arr_rdm\n",
        "print(\"Shape of arr_rdm:\", arr_rdm.shape)\n",
        "# print tipe data arr_rdm\n",
        "print(\"Data type of arr_rdm:\", arr_rdm.dtype)"
      ],
      "metadata": {
        "id": "XQu2qotARqrU",
        "colab": {
          "base_uri": "https://localhost:8080/"
        },
        "outputId": "3cadffba-9bb5-4682-a202-a3a72bfc4ce6"
      },
      "execution_count": 2,
      "outputs": [
        {
          "output_type": "stream",
          "name": "stdout",
          "text": [
            "Random Matrix (arr_rdm):\n",
            " [[ 7 13  5]\n",
            " [34  9 41]]\n",
            "Shape of arr_rdm: (2, 3)\n",
            "Data type of arr_rdm: int64\n"
          ]
        }
      ]
    },
    {
      "cell_type": "markdown",
      "source": [
        "# Aritmatika Dasar dengan Numpy"
      ],
      "metadata": {
        "id": "ibSu8dw4TCE9"
      }
    },
    {
      "cell_type": "code",
      "source": [
        "arr = np.array([[4, 2, 5], [1, 8, 2]], dtype=np.int64)\n",
        "arr_rdm = np.random.randint(1, 75, size=(2, 3), dtype=np.int64)\n",
        "# operasi penjumlahan arr dan arr_rdm\n",
        "sum_result = arr + arr_rdm\n",
        "# operasi pengurangan arr dan arr_rdm\n",
        "subtraction_result = arr - arr_rdm\n",
        "# operasi perpangkatan dua arr_rdm\n",
        "power_result = arr_rdm ** 2\n",
        "# operasi perkalian elemen arr dan arr_rdm\n",
        "elementwise_multiplication_result = arr * arr_rdm\n",
        "# Transpose matriks arr_rdm\n",
        "arr_rdm_transposed = np.transpose(arr_rdm)\n",
        "# operasi perkalian matriks arr dan arr_rdm\n",
        "matrix_multiplication_result = np.dot(arr, arr_rdm_transposed)\n",
        "# Menampilkan hasil\n",
        "print(\"Hasil Penjumlahan:\\n\", sum_result)\n",
        "print(\"Hasil Pengurangan:\\n\", subtraction_result)\n",
        "print(\"Hasil Perpangkatan Dua:\\n\", power_result)\n",
        "print(\"Hasil Perkalian Elemen:\\n\", elementwise_multiplication_result)\n",
        "print(\"Transpose arr_rdm:\\n\", arr_rdm_transposed)\n",
        "print(\"Hasil Perkalian Matriks:\\n\", matrix_multiplication_result)"
      ],
      "metadata": {
        "id": "2gFgxZ6BSlr-",
        "colab": {
          "base_uri": "https://localhost:8080/"
        },
        "outputId": "8e451809-ed46-4840-fde8-dbab7447de31"
      },
      "execution_count": 6,
      "outputs": [
        {
          "output_type": "stream",
          "name": "stdout",
          "text": [
            "Hasil Penjumlahan:\n",
            " [[21 13 66]\n",
            " [50 71 10]]\n",
            "Hasil Pengurangan:\n",
            " [[-13  -9 -56]\n",
            " [-48 -55  -6]]\n",
            "Hasil Perpangkatan Dua:\n",
            " [[ 289  121 3721]\n",
            " [2401 3969   64]]\n",
            "Hasil Perkalian Elemen:\n",
            " [[ 68  22 305]\n",
            " [ 49 504  16]]\n",
            "Transpose arr_rdm:\n",
            " [[17 49]\n",
            " [11 63]\n",
            " [61  8]]\n",
            "Hasil Perkalian Matriks:\n",
            " [[395 362]\n",
            " [227 569]]\n"
          ]
        }
      ]
    },
    {
      "cell_type": "code",
      "source": [
        "arr = np.array([[1, 2, 3], [5, 6, 7]], dtype=np.int64)\n",
        "# print nilai rata-rata arr\n",
        "rata_rata_arr = np.mean(arr)\n",
        "# print nilai rata-rata per baris arr\n",
        "rata_rata_per_baris = np.mean(arr, axis=1)\n",
        "# print total nilai seluruh elemen matriks arr\n",
        "total_nilai = np.sum(arr)\n",
        "# print nilai maximal per kolom matriks arr\n",
        "maksimal_per_kolom = np.max(arr, axis=0)\n",
        "# Menampilkan hasil\n",
        "print(\"Nilai Rata-rata arr:\", rata_rata_arr)\n",
        "print(\"Nilai Rata-rata per Baris arr:\", rata_rata_per_baris)\n",
        "print(\"Total Nilai Seluruh Elemen Matriks arr:\", total_nilai)\n",
        "print(\"Nilai Maksimal per Kolom Matriks arr:\", maksimal_per_kolom)"
      ],
      "metadata": {
        "id": "QK1uxmhmT7tj",
        "colab": {
          "base_uri": "https://localhost:8080/"
        },
        "outputId": "5a9f64be-6973-423d-9518-59942f02c76e"
      },
      "execution_count": 7,
      "outputs": [
        {
          "output_type": "stream",
          "name": "stdout",
          "text": [
            "Nilai Rata-rata arr: 4.0\n",
            "Nilai Rata-rata per Baris arr: [2. 6.]\n",
            "Total Nilai Seluruh Elemen Matriks arr: 24\n",
            "Nilai Maksimal per Kolom Matriks arr: [5 6 7]\n"
          ]
        }
      ]
    },
    {
      "cell_type": "markdown",
      "source": [
        "# Fitur pada Numpy"
      ],
      "metadata": {
        "id": "kHgUabu9V2AJ"
      }
    },
    {
      "cell_type": "code",
      "source": [
        "arrg = np.arange(1, 21)\n",
        "# buat array arrg dengan nilai range 1-20\n",
        "arrg = np.arange(1, 21)\n",
        "# print arrg\n",
        "print(\"arrg:\", arrg)\n",
        "# print nilai arrg index 5\n",
        "print(\"Nilai arrg index 5:\", arrg[5])\n",
        "# print nilai arrg untuk 3 elemen dari terakhir\n",
        "print(\"3 elemen terakhir arrg:\", arrg[-3:])\n",
        "# print nilai arrg 3 sampai 6\n",
        "print(\"Nilai arrg dari indeks 3 hingga 6:\", arrg[3:7])"
      ],
      "metadata": {
        "id": "HxVt2zc1UdJD",
        "colab": {
          "base_uri": "https://localhost:8080/"
        },
        "outputId": "d41fbb91-21f6-4e62-931d-2d86199c9472"
      },
      "execution_count": 8,
      "outputs": [
        {
          "output_type": "stream",
          "name": "stdout",
          "text": [
            "arrg: [ 1  2  3  4  5  6  7  8  9 10 11 12 13 14 15 16 17 18 19 20]\n",
            "Nilai arrg index 5: 6\n",
            "3 elemen terakhir arrg: [18 19 20]\n",
            "Nilai arrg dari indeks 3 hingga 6: [4 5 6 7]\n"
          ]
        }
      ]
    },
    {
      "cell_type": "code",
      "source": [
        "arr = np.array([[1, 2, 3], [5, 6, 7]], dtype=np.int64)\n",
        "# print matriks arr\n",
        "print(\"Matriks arr:\")\n",
        "print(arr)\n",
        "# print slice matriks arr dengan output\n",
        "## [[ 2  3 ]\n",
        "##  [ 6  7 ]]\n",
        "slice1 = arr[:, 1:]\n",
        "print(\"\\nSlice matriks arr (output [[2 3] [6 7]]):\")\n",
        "print(slice1)\n",
        "# print slice matriks arr dengan output\n",
        "## [[ 3 ]\n",
        "##  [ 7 ]]\n",
        "slice2 = arr[:, 2:]\n",
        "print(\"\\nSlice matriks arr (output [[3] [7]]):\")\n",
        "print(slice2)"
      ],
      "metadata": {
        "id": "2mIKvlUyVR00",
        "colab": {
          "base_uri": "https://localhost:8080/"
        },
        "outputId": "15d92aca-ae38-4f84-d5cd-dc07418d3a34"
      },
      "execution_count": 111,
      "outputs": [
        {
          "output_type": "stream",
          "name": "stdout",
          "text": [
            "Matriks arr:\n",
            "[[1 2 3]\n",
            " [4 5 6]\n",
            " [7 8 9]]\n",
            "\n",
            "Slice matriks arr (output [[2 3] [6 7]]):\n",
            "[[2 3]\n",
            " [5 6]]\n",
            "\n",
            "Slice matriks arr (output [[3] [7]]):\n",
            "[[3]\n",
            " [6]]\n"
          ]
        }
      ]
    },
    {
      "cell_type": "code",
      "source": [
        "\n",
        "# buat matriks mtx_rdm ukuran 3x4 dengan tipe data integer, isi elemennya random\n",
        "mtx_rdm = np.random.randint(1, 76, (3, 4), dtype=int)\n",
        "# print mtx_rdm shape\n",
        "print(\"Shape dari mtx_rdm:\")\n",
        "print(mtx_rdm.shape)\n",
        "# ubah shape mtx_rdm menjadi satu dimensi\n",
        "mtx_1d = mtx_rdm.flatten()\n",
        "# Mencetak matriks satu dimensi\n",
        "print(\"\\nMatriks satu dimensi (flatten):\")\n",
        "print(mtx_1d)\n",
        "# ubah shape mtx_rdm menjadi 6x2\n",
        "mtx_reshaped = mtx_rdm.reshape(6, 2)\n",
        "# Mencetak matriks dengan shape yang sudah diubah\n",
        "print(\"\\nMatriks dengan shape 6x2:\")\n",
        "print(mtx_reshaped)"
      ],
      "metadata": {
        "id": "tlJfHEnRV57y",
        "colab": {
          "base_uri": "https://localhost:8080/"
        },
        "outputId": "63b789fe-32d1-4def-fcff-fe29ca929b69"
      },
      "execution_count": 50,
      "outputs": [
        {
          "output_type": "stream",
          "name": "stdout",
          "text": [
            "Shape dari mtx_rdm:\n",
            "(3, 4)\n",
            "\n",
            "Matriks satu dimensi (flatten):\n",
            "[16 10  5 60  8 59 38 26 30 44 73 50]\n",
            "\n",
            "Matriks dengan shape 6x2:\n",
            "[[16 10]\n",
            " [ 5 60]\n",
            " [ 8 59]\n",
            " [38 26]\n",
            " [30 44]\n",
            " [73 50]]\n"
          ]
        }
      ]
    }
  ],
  "metadata": {
    "anaconda-cloud": {},
    "kernelspec": {
      "display_name": "Python 3",
      "name": "python3"
    },
    "language_info": {
      "name": "python"
    },
    "colab": {
      "provenance": []
    }
  },
  "nbformat": 4,
  "nbformat_minor": 0
}
